{
 "cells": [
  {
   "cell_type": "code",
   "execution_count": 1,
   "id": "2cef4ccb",
   "metadata": {},
   "outputs": [
    {
     "name": "stdout",
     "output_type": "stream",
     "text": [
      "           seed        F1  Precision    Recall  Accuracy       AUC\n",
      "mean  22.425000  0.580299   0.520532  0.715909  0.865588  0.880705\n",
      "std   11.821075  0.116501   0.221992  0.026145  0.048113  0.009221\n",
      "max   42.000000  0.840382   0.976471  0.747417  0.966189  0.902774\n",
      "min    1.000000  0.490037   0.383765  0.651107  0.829992  0.861833\n"
     ]
    }
   ],
   "source": [
    "import pandas as pd\n",
    "\n",
    "df = pd.read_csv(\"./results/swat_GDN_seeds/summary.csv\")\n",
    "print(df.describe().loc[['mean', 'std', 'max', 'min']])"
   ]
  },
  {
   "cell_type": "code",
   "execution_count": 3,
   "id": "8fb748b5",
   "metadata": {},
   "outputs": [
    {
     "name": "stdout",
     "output_type": "stream",
     "text": [
      "           seed        F1  Precision    Recall  Accuracy       AUC\n",
      "mean  22.923077  0.759313   0.920022  0.657347  0.947112  0.893105\n",
      "std   11.542563  0.070942   0.149036  0.018385  0.028595  0.012321\n",
      "max   42.000000  0.812857   0.987507  0.727306  0.961432  0.913135\n",
      "min    1.000000  0.502672   0.409497  0.633026  0.844863  0.863694\n"
     ]
    }
   ],
   "source": [
    "import pandas as pd\n",
    "\n",
    "df2 = pd.read_csv(\"./results/swat_STGDN_seeds/summary.csv\")\n",
    "print(df2.describe().loc[['mean', 'std', 'max', 'min']])"
   ]
  },
  {
   "cell_type": "code",
   "execution_count": 1,
   "id": "0af4c75a",
   "metadata": {},
   "outputs": [
    {
     "name": "stdout",
     "output_type": "stream",
     "text": [
      "           seed        F1  Precision    Recall  Accuracy          AUC\n",
      "mean   5.888889  0.442446   0.774293  0.342648  0.810039   503.925622\n",
      "std    2.934469  0.012655   0.180159  0.119058  0.040713  1390.881341\n",
      "max   10.000000  0.461207   0.925234  0.658683  0.858121  4212.555453\n",
      "min    1.000000  0.422414   0.340031  0.284431  0.731987     5.863743\n"
     ]
    }
   ],
   "source": [
    "import pandas as pd\n",
    "\n",
    "df3 = pd.read_csv(\"./results/wadi_STGDN_seeds/summary.csv\")\n",
    "df3 = df3[df3['F1']!=0.0]\n",
    "print(df3.describe().loc[['mean', 'std', 'max', 'min']])"
   ]
  },
  {
   "cell_type": "code",
   "execution_count": 2,
   "id": "029f1327",
   "metadata": {},
   "outputs": [
    {
     "name": "stdout",
     "output_type": "stream",
     "text": [
      "          seed        F1  Precision    Recall  Accuracy         AUC\n",
      "mean   5.50000  0.443954   0.778508  0.325749  0.806524  123.639621\n",
      "std    3.02765  0.009290   0.139658  0.072075  0.038265  119.589012\n",
      "max   10.00000  0.462141   0.915888  0.529940  0.863262  414.626682\n",
      "min    1.00000  0.426724   0.410673  0.293413  0.743337   42.527766\n"
     ]
    }
   ],
   "source": [
    "import pandas as pd\n",
    "\n",
    "df4 = pd.read_csv(\"./results/wadi_GDN_seeds/summary.csv\")\n",
    "df4 = df4[df4['F1']!=0.0]\n",
    "print(df4.describe().loc[['mean', 'std', 'max', 'min']])"
   ]
  },
  {
   "cell_type": "code",
   "execution_count": null,
   "id": "ea43994a",
   "metadata": {},
   "outputs": [],
   "source": []
  }
 ],
 "metadata": {
  "kernelspec": {
   "display_name": "ugdn",
   "language": "python",
   "name": "python3"
  },
  "language_info": {
   "codemirror_mode": {
    "name": "ipython",
    "version": 3
   },
   "file_extension": ".py",
   "mimetype": "text/x-python",
   "name": "python",
   "nbconvert_exporter": "python",
   "pygments_lexer": "ipython3",
   "version": "3.12.3"
  }
 },
 "nbformat": 4,
 "nbformat_minor": 5
}
