{
 "cells": [
  {
   "cell_type": "code",
   "execution_count": 3,
   "id": "2cef4ccb",
   "metadata": {},
   "outputs": [
    {
     "name": "stdout",
     "output_type": "stream",
     "text": [
      "           seed        F1  Precision    Recall  Accuracy       AUC\n",
      "mean  25.784314  0.635768   0.605722  0.731007  0.880861  0.889927\n",
      "std   12.371441  0.153461   0.265318  0.037906  0.057076  0.021979\n",
      "max   43.000000  0.889741   0.987433  0.810521  0.966189  0.945027\n",
      "min    1.000000  0.490037   0.383765  0.651107  0.774108  0.861833\n"
     ]
    }
   ],
   "source": [
    "import pandas as pd\n",
    "\n",
    "df = pd.read_csv(\"./results/swat_GDN_seeds/summary.csv\")\n",
    "df = df.iloc[:, -10:]\n",
    "print(df.describe().loc[['mean', 'std', 'max', 'min']])"
   ]
  },
  {
   "cell_type": "code",
   "execution_count": 4,
   "id": "8fb748b5",
   "metadata": {},
   "outputs": [
    {
     "name": "stdout",
     "output_type": "stream",
     "text": [
      "          seed        F1  Precision    Recall  Accuracy       AUC\n",
      "mean  26.24000  0.785428   0.932824  0.688061  0.949447  0.900110\n",
      "std   12.05694  0.079990   0.133809  0.061316  0.025632  0.018236\n",
      "max   43.00000  0.894503   0.987507  0.822160  0.963055  0.943905\n",
      "min    1.00000  0.502672   0.409497  0.633026  0.844863  0.863694\n"
     ]
    }
   ],
   "source": [
    "import pandas as pd\n",
    "\n",
    "df2 = pd.read_csv(\"./results/swat_STGDN_seeds/summary.csv\")\n",
    "df2 = df2.iloc[:, -10:]\n",
    "print(df2.describe().loc[['mean', 'std', 'max', 'min']])"
   ]
  },
  {
   "cell_type": "code",
   "execution_count": 9,
   "id": "029f1327",
   "metadata": {},
   "outputs": [
    {
     "name": "stdout",
     "output_type": "stream",
     "text": [
      "           seed        F1  Precision    Recall  Accuracy       AUC\n",
      "mean  38.000000  0.443255   0.746766  0.324442  0.968806  0.811192\n",
      "std    3.316625  0.030167   0.111751  0.065504  0.002549  0.023493\n",
      "max   43.000000  0.524887   0.934579  0.520958  0.972090  0.840764\n",
      "min   33.000000  0.404669   0.528875  0.296407  0.963521  0.781148\n"
     ]
    }
   ],
   "source": [
    "import pandas as pd\n",
    "\n",
    "df3 = pd.read_csv(\"./results/wadi_GDN_seeds/summary.csv\")\n",
    "df3 = df3[df3['F1']!=0.0]\n",
    "df3 = df3.iloc[:, :11]\n",
    "print(df3.describe().loc[['mean', 'std', 'max', 'min']])"
   ]
  },
  {
   "cell_type": "code",
   "execution_count": 10,
   "id": "0af4c75a",
   "metadata": {},
   "outputs": [
    {
     "name": "stdout",
     "output_type": "stream",
     "text": [
      "           seed        F1  Precision    Recall  Accuracy       AUC\n",
      "mean  37.464286  0.442796   0.874736  0.296621  0.971120  0.813720\n",
      "std    3.144450  0.007153   0.043848  0.004069  0.000675  0.029201\n",
      "max   43.000000  0.450766   0.925234  0.308383  0.971868  0.870066\n",
      "min   33.000000  0.426667   0.811475  0.287425  0.970122  0.761966\n"
     ]
    }
   ],
   "source": [
    "import pandas as pd\n",
    "\n",
    "df4 = pd.read_csv(\"./results/wadi_STGDN_seeds/summary.csv\")\n",
    "df4 = df4[df4['F1']!=0.0]\n",
    "df4 = df4.iloc[:, :11]\n",
    "print(df4.describe().loc[['mean', 'std', 'max', 'min']])"
   ]
  },
  {
   "cell_type": "code",
   "execution_count": null,
   "id": "ea43994a",
   "metadata": {},
   "outputs": [],
   "source": []
  },
  {
   "cell_type": "code",
   "execution_count": null,
   "id": "9ff904cd",
   "metadata": {},
   "outputs": [],
   "source": []
  }
 ],
 "metadata": {
  "kernelspec": {
   "display_name": "ugdn",
   "language": "python",
   "name": "python3"
  },
  "language_info": {
   "codemirror_mode": {
    "name": "ipython",
    "version": 3
   },
   "file_extension": ".py",
   "mimetype": "text/x-python",
   "name": "python",
   "nbconvert_exporter": "python",
   "pygments_lexer": "ipython3",
   "version": "3.12.3"
  }
 },
 "nbformat": 4,
 "nbformat_minor": 5
}
