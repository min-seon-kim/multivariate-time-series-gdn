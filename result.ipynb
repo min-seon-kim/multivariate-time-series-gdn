{
 "cells": [
  {
   "cell_type": "code",
   "execution_count": 1,
   "id": "2cef4ccb",
   "metadata": {},
   "outputs": [
    {
     "name": "stdout",
     "output_type": "stream",
     "text": [
      "           seed        F1  Precision    Recall  Accuracy       AUC\n",
      "mean  22.425000  0.580299   0.520532  0.715909  0.865588  0.880705\n",
      "std   11.821075  0.116501   0.221992  0.026145  0.048113  0.009221\n"
     ]
    }
   ],
   "source": [
    "import pandas as pd\n",
    "\n",
    "df = pd.read_csv(\"./results/swat_GDN_seeds/summary.csv\")\n",
    "print(df.describe().loc[['mean', 'std']])"
   ]
  },
  {
   "cell_type": "code",
   "execution_count": 2,
   "id": "8fb748b5",
   "metadata": {},
   "outputs": [
    {
     "name": "stdout",
     "output_type": "stream",
     "text": [
      "           seed        F1  Precision    Recall  Accuracy       AUC\n",
      "mean  22.923077  0.759313   0.920022  0.657347  0.947112  0.893105\n",
      "std   11.542563  0.070942   0.149036  0.018385  0.028595  0.012321\n"
     ]
    }
   ],
   "source": [
    "df2 = pd.read_csv(\"./results/swat_STGDN_seeds/summary.csv\")\n",
    "print(df2.describe().loc[['mean', 'std']])"
   ]
  },
  {
   "cell_type": "code",
   "execution_count": null,
   "id": "0af4c75a",
   "metadata": {},
   "outputs": [],
   "source": []
  }
 ],
 "metadata": {
  "kernelspec": {
   "display_name": "ugdn",
   "language": "python",
   "name": "python3"
  },
  "language_info": {
   "codemirror_mode": {
    "name": "ipython",
    "version": 3
   },
   "file_extension": ".py",
   "mimetype": "text/x-python",
   "name": "python",
   "nbconvert_exporter": "python",
   "pygments_lexer": "ipython3",
   "version": "3.12.3"
  }
 },
 "nbformat": 4,
 "nbformat_minor": 5
}
