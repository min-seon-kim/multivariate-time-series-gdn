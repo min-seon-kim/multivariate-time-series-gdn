{
 "cells": [
  {
   "cell_type": "code",
   "execution_count": 1,
   "id": "2cef4ccb",
   "metadata": {},
   "outputs": [
    {
     "name": "stdout",
     "output_type": "stream",
     "text": [
      "           seed        F1  Precision    Recall  Accuracy       AUC\n",
      "mean  22.425000  0.580299   0.520532  0.715909  0.865588  0.880705\n",
      "std   11.821075  0.116501   0.221992  0.026145  0.048113  0.009221\n",
      "max   42.000000  0.840382   0.976471  0.747417  0.966189  0.902774\n",
      "min    1.000000  0.490037   0.383765  0.651107  0.829992  0.861833\n"
     ]
    }
   ],
   "source": [
    "import pandas as pd\n",
    "\n",
    "df = pd.read_csv(\"./results/swat_GDN_seeds/summary.csv\")\n",
    "print(df.describe().loc[['mean', 'std', 'max', 'min']])"
   ]
  },
  {
   "cell_type": "code",
   "execution_count": 3,
   "id": "8fb748b5",
   "metadata": {},
   "outputs": [
    {
     "name": "stdout",
     "output_type": "stream",
     "text": [
      "           seed        F1  Precision    Recall  Accuracy       AUC\n",
      "mean  22.923077  0.759313   0.920022  0.657347  0.947112  0.893105\n",
      "std   11.542563  0.070942   0.149036  0.018385  0.028595  0.012321\n",
      "max   42.000000  0.812857   0.987507  0.727306  0.961432  0.913135\n",
      "min    1.000000  0.502672   0.409497  0.633026  0.844863  0.863694\n"
     ]
    }
   ],
   "source": [
    "import pandas as pd\n",
    "\n",
    "df2 = pd.read_csv(\"./results/swat_STGDN_seeds/summary.csv\")\n",
    "print(df2.describe().loc[['mean', 'std', 'max', 'min']])"
   ]
  },
  {
   "cell_type": "code",
   "execution_count": 4,
   "id": "0af4c75a",
   "metadata": {},
   "outputs": [
    {
     "name": "stdout",
     "output_type": "stream",
     "text": [
      "           seed        F1  Precision    Recall  Accuracy       AUC\n",
      "mean   6.090909  0.273100   0.903281  0.162487  0.950575  0.697791\n",
      "std    3.477198  0.054820   0.049960  0.039233  0.001884  0.045645\n",
      "max   12.000000  0.378679   0.960396  0.238716  0.954790  0.773172\n",
      "min    1.000000  0.176685   0.801843  0.097292  0.947670  0.603728\n"
     ]
    }
   ],
   "source": [
    "import pandas as pd\n",
    "\n",
    "df3 = pd.read_csv(\"./results/wadi_STGDN_seeds/summary.csv\")\n",
    "df3 = df3[df3['F1']!=0.0]\n",
    "print(df3.describe().loc[['mean', 'std', 'max', 'min']])"
   ]
  },
  {
   "cell_type": "code",
   "execution_count": 1,
   "id": "029f1327",
   "metadata": {},
   "outputs": [
    {
     "name": "stdout",
     "output_type": "stream",
     "text": [
      "          seed        F1  Precision    Recall  Accuracy       AUC\n",
      "mean  1.500000  0.373036   0.743189  0.250752  0.951187  0.740871\n",
      "std   0.707107  0.024497   0.177234  0.001418  0.004831  0.024994\n",
      "max   2.000000  0.390358   0.868512  0.251755  0.954603  0.758544\n",
      "min   1.000000  0.355714   0.617866  0.249749  0.947771  0.723198\n"
     ]
    }
   ],
   "source": [
    "import pandas as pd\n",
    "\n",
    "df4 = pd.read_csv(\"./results/wadi_GDN_seeds/summary.csv\")\n",
    "df4 = df4[df4['F1']!=0.0]\n",
    "print(df4.describe().loc[['mean', 'std', 'max', 'min']])"
   ]
  },
  {
   "cell_type": "code",
   "execution_count": null,
   "id": "ea43994a",
   "metadata": {},
   "outputs": [],
   "source": []
  }
 ],
 "metadata": {
  "kernelspec": {
   "display_name": "ugdn",
   "language": "python",
   "name": "python3"
  },
  "language_info": {
   "codemirror_mode": {
    "name": "ipython",
    "version": 3
   },
   "file_extension": ".py",
   "mimetype": "text/x-python",
   "name": "python",
   "nbconvert_exporter": "python",
   "pygments_lexer": "ipython3",
   "version": "3.12.3"
  }
 },
 "nbformat": 4,
 "nbformat_minor": 5
}
