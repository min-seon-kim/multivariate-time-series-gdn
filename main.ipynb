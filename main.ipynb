{
 "cells": [
  {
   "cell_type": "code",
   "execution_count": 1,
   "metadata": {},
   "outputs": [
    {
     "name": "stdout",
     "output_type": "stream",
     "text": [
      "cuda\n"
     ]
    }
   ],
   "source": [
    "import pandas as pd\n",
    "import numpy as np\n",
    "import torch\n",
    "import matplotlib.pyplot as plt\n",
    "from torch.utils.data import DataLoader, random_split, Subset\n",
    "from sklearn.preprocessing import MinMaxScaler\n",
    "from util.env import get_device, set_device\n",
    "from util.preprocess import build_loc_net, construct_data\n",
    "from util.net_struct import get_feature_map, get_fc_graph_struc\n",
    "from util.iostream import printsep\n",
    "from datasets.TimeDataset import TimeDataset\n",
    "from models.GDN import GDN\n",
    "from train_model import train_model\n",
    "from test_model  import test_model\n",
    "from evaluate import get_err_scores, get_best_performance_data, get_val_performance_data, get_full_err_scores\n",
    "import sys\n",
    "from datetime import datetime\n",
    "import os\n",
    "import argparse\n",
    "from pathlib import Path\n",
    "import matplotlib.pyplot as plt\n",
    "import json\n",
    "import random\n",
    "\n",
    "class Args:\n",
    "    def __init__(self):\n",
    "        self.batch = 32\n",
    "        self.epoch = 50\n",
    "        self.slide_win = 5\n",
    "        self.dim = 64\n",
    "        self.slide_stride = 5\n",
    "        self.save_path_pattern = ''\n",
    "        self.dataset = 'swat'\n",
    "        self.device = 'cuda'\n",
    "        self.random_seed = 0\n",
    "        self.comment = ''\n",
    "        self.out_layer_num = 1\n",
    "        self.out_layer_inter_dim = 64\n",
    "        self.decay = 0.0\n",
    "        self.val_ratio = 0.1\n",
    "        self.topk = 15\n",
    "        self.report = 'best'\n",
    "        self.load_model_path = ''\n",
    "\n",
    "        # 추가된 변수들\n",
    "        self.npy_save_path = './eval_loss_acc.npy'  # Path to save evaluation results\n",
    "        self.pool_save_path = './prompt_pool.npy'  # Path to save prompt pool\n",
    "        self.dataset_root = './Dataset'  # Root directory for datasets\n",
    "\n",
    "args = Args()\n",
    "print(args.device)\n",
    "\n",
    "random.seed(args.random_seed)\n",
    "np.random.seed(args.random_seed)\n",
    "torch.manual_seed(args.random_seed)\n",
    "torch.cuda.manual_seed(args.random_seed)\n",
    "torch.cuda.manual_seed_all(args.random_seed)\n",
    "torch.backends.cudnn.benchmark = False\n",
    "torch.backends.cudnn.deterministic = True\n",
    "os.environ['PYTHONHASHSEED'] = str(args.random_seed)"
   ]
  },
  {
   "cell_type": "code",
   "execution_count": 2,
   "metadata": {},
   "outputs": [],
   "source": [
    "train_config = {\n",
    "    'batch': args.batch,\n",
    "    'epoch': args.epoch,\n",
    "    'slide_win': args.slide_win,\n",
    "    'dim': args.dim,\n",
    "    'slide_stride': args.slide_stride,\n",
    "    'comment': args.comment,\n",
    "    'seed': args.random_seed,\n",
    "    'out_layer_num': args.out_layer_num,\n",
    "    'out_layer_inter_dim': args.out_layer_inter_dim,\n",
    "    'decay': args.decay,\n",
    "    'val_ratio': args.val_ratio,\n",
    "    'topk': args.topk,\n",
    "}\n",
    "\n",
    "env_config={\n",
    "    'save_path': args.save_path_pattern,\n",
    "    'dataset': args.dataset,\n",
    "    'report': args.report,\n",
    "    'device': args.device,\n",
    "    'load_model_path': args.load_model_path\n",
    "}"
   ]
  },
  {
   "cell_type": "code",
   "execution_count": 3,
   "metadata": {},
   "outputs": [],
   "source": [
    "datestr = None\n",
    "\n",
    "dataset = env_config['dataset'] \n",
    "train_orig = pd.read_csv(f'./data/{dataset}/train.csv', sep=',', index_col=0)\n",
    "test_orig = pd.read_csv(f'./data/{dataset}/test.csv', sep=',', index_col=0)\n",
    "\n",
    "train, test = train_orig, test_orig\n",
    "\n",
    "if 'attack' in train.columns:\n",
    "    train = train.drop(columns=['attack'])\n",
    "\n",
    "feature_map = get_feature_map(dataset)\n",
    "# Create Fully-Connected Graph Structure\n",
    "fc_struc = get_fc_graph_struc(dataset)\n",
    "\n",
    "set_device(env_config['device'])\n",
    "device = get_device()"
   ]
  },
  {
   "cell_type": "code",
   "execution_count": 4,
   "metadata": {},
   "outputs": [],
   "source": [
    "# Create Edge Connections\n",
    "fc_edge_index = build_loc_net(fc_struc, list(train.columns), feature_map=feature_map)\n",
    "fc_edge_index = torch.tensor(fc_edge_index, dtype = torch.long)\n",
    "\n",
    "feature_map = feature_map\n",
    "\n",
    "# Data List & Label List\n",
    "train_dataset_indata = construct_data(train, feature_map, labels=0)\n",
    "test_dataset_indata = construct_data(test, feature_map, labels=test.attack.tolist())\n",
    "\n",
    "\n",
    "cfg = {\n",
    "    'slide_win': train_config['slide_win'],\n",
    "    'slide_stride': train_config['slide_stride'],\n",
    "}\n",
    "\n",
    "train_dataset = TimeDataset(train_dataset_indata, fc_edge_index, mode='train', config=cfg)\n",
    "test_dataset = TimeDataset(test_dataset_indata, fc_edge_index, mode='test', config=cfg)"
   ]
  },
  {
   "cell_type": "code",
   "execution_count": 5,
   "metadata": {},
   "outputs": [
    {
     "data": {
      "text/plain": [
       "(torch.Size([9467, 51, 5]), torch.Size([9467, 51]), torch.Size([9467]))"
      ]
     },
     "execution_count": 5,
     "metadata": {},
     "output_type": "execute_result"
    }
   ],
   "source": [
    "train_dataset.x.shape, train_dataset.y.shape, train_dataset.labels.shape"
   ]
  },
  {
   "cell_type": "code",
   "execution_count": 6,
   "metadata": {},
   "outputs": [],
   "source": [
    "def get_loaders(train_dataset, seed, batch, val_ratio=0.1):\n",
    "    dataset_len = int(len(train_dataset))\n",
    "    train_use_len = int(dataset_len * (1 - val_ratio))\n",
    "    val_use_len = int(dataset_len * val_ratio)\n",
    "    val_start_index = random.randrange(train_use_len)\n",
    "    indices = torch.arange(dataset_len)\n",
    "\n",
    "    train_sub_indices = torch.cat([indices[:val_start_index], indices[val_start_index+val_use_len:]])\n",
    "    train_subset = Subset(train_dataset, train_sub_indices)\n",
    "\n",
    "    val_sub_indices = indices[val_start_index:val_start_index+val_use_len]\n",
    "    val_subset = Subset(train_dataset, val_sub_indices)\n",
    "\n",
    "\n",
    "    train_dataloader = DataLoader(train_subset, batch_size=batch,\n",
    "                            shuffle=True)\n",
    "\n",
    "    val_dataloader = DataLoader(val_subset, batch_size=batch,\n",
    "                            shuffle=False)\n",
    "\n",
    "    return train_dataloader, val_dataloader\n",
    "\n",
    "train_dataloader, val_dataloader = get_loaders(train_dataset, train_config['seed'], train_config['batch'], val_ratio = train_config['val_ratio'])\n",
    "\n",
    "train_dataset = train_dataset\n",
    "test_dataset = test_dataset\n",
    "\n",
    "\n",
    "train_dataloader = train_dataloader\n",
    "val_dataloader = val_dataloader\n",
    "test_dataloader = DataLoader(test_dataset, batch_size=train_config['batch'],\n",
    "                    shuffle=False, num_workers=0)\n",
    "\n",
    "\n",
    "edge_index_sets = []\n",
    "edge_index_sets.append(fc_edge_index)\n",
    "\n",
    "model = GDN(edge_index_sets, len(feature_map), \n",
    "        dim=train_config['dim'], \n",
    "        input_dim=train_config['slide_win'],\n",
    "        out_layer_num=train_config['out_layer_num'],\n",
    "        out_layer_inter_dim=train_config['out_layer_inter_dim'],\n",
    "        topk=train_config['topk']\n",
    "    ).to(device)\n"
   ]
  },
  {
   "cell_type": "code",
   "execution_count": null,
   "metadata": {},
   "outputs": [
    {
     "data": {
      "text/plain": [
       "(torch.Size([32, 51, 5]),\n",
       " torch.Size([32, 51]),\n",
       " torch.Size([32]),\n",
       " torch.Size([32, 2, 2550]))"
      ]
     },
     "execution_count": 16,
     "metadata": {},
     "output_type": "execute_result"
    }
   ],
   "source": [
    "# x, y, label, edge\n",
    "next(iter(train_dataloader))[0].shape, next(iter(train_dataloader))[1].shape, next(iter(train_dataloader))[2].shape, next(iter(train_dataloader))[3].shape"
   ]
  },
  {
   "cell_type": "code",
   "execution_count": 19,
   "metadata": {},
   "outputs": [],
   "source": [
    "def get_save_path(feature_name=''):\n",
    "\n",
    "    dir_path = env_config['save_path']\n",
    "\n",
    "    now = datetime.now()\n",
    "    datestr = now.strftime('%m|%d-%H:%M:%S')\n",
    "    datestr = datestr          \n",
    "\n",
    "    paths = [\n",
    "        f'./pretrained/{dir_path}/best_{datestr}.pt',\n",
    "        f'./results/{dir_path}/{datestr}.csv',\n",
    "    ]\n",
    "\n",
    "    for path in paths:\n",
    "        dirname = os.path.dirname(path)\n",
    "        Path(dirname).mkdir(parents=True, exist_ok=True)\n",
    "\n",
    "    return paths\n",
    "\n",
    "def get_score(test_result, val_result):\n",
    "\n",
    "    feature_num = len(test_result[0][0])\n",
    "    np_test_result = np.array(test_result)\n",
    "    np_val_result = np.array(val_result)\n",
    "\n",
    "    test_labels = np_test_result[2, :, 0].tolist()\n",
    "\n",
    "    test_scores, normal_scores = get_full_err_scores(test_result, val_result)\n",
    "\n",
    "    top1_best_info = get_best_performance_data(test_scores, test_labels, topk=1) \n",
    "    top1_val_info = get_val_performance_data(test_scores, normal_scores, test_labels, topk=1)\n",
    "\n",
    "\n",
    "    print('=========================** Result **============================\\n')\n",
    "\n",
    "    info = None\n",
    "    if env_config['report'] == 'best':\n",
    "        info = top1_best_info\n",
    "    elif env_config['report'] == 'val':\n",
    "        info = top1_val_info\n",
    "\n",
    "    print(f'F1 score: {info[0]}')\n",
    "    print(f'precision: {info[1]}')\n",
    "    print(f'recall: {info[2]}\\n')"
   ]
  },
  {
   "cell_type": "code",
   "execution_count": 21,
   "metadata": {},
   "outputs": [
    {
     "name": "stdout",
     "output_type": "stream",
     "text": [
      "epoch (0 / 50) (Loss:0.00650947, ACU_loss:1.73802973)\n",
      "epoch (1 / 50) (Loss:0.00619083, ACU_loss:1.65295036)\n",
      "epoch (2 / 50) (Loss:0.00653698, ACU_loss:1.74537246)\n",
      "epoch (3 / 50) (Loss:0.00612448, ACU_loss:1.63523712)\n",
      "epoch (4 / 50) (Loss:0.00590560, ACU_loss:1.57679584)\n",
      "epoch (5 / 50) (Loss:0.00584417, ACU_loss:1.56039281)\n",
      "epoch (6 / 50) (Loss:0.00658256, ACU_loss:1.75754244)\n",
      "epoch (7 / 50) (Loss:0.00669261, ACU_loss:1.78692775)\n",
      "epoch (8 / 50) (Loss:0.00667318, ACU_loss:1.78174033)\n",
      "epoch (9 / 50) (Loss:0.00629843, ACU_loss:1.68168049)\n",
      "epoch (10 / 50) (Loss:0.00741544, ACU_loss:1.97992261)\n",
      "epoch (11 / 50) (Loss:0.00795506, ACU_loss:2.12400040)\n",
      "epoch (12 / 50) (Loss:0.00739637, ACU_loss:1.97483079)\n",
      "epoch (13 / 50) (Loss:0.00696771, ACU_loss:1.86037868)\n"
     ]
    },
    {
     "name": "stderr",
     "output_type": "stream",
     "text": [
      "/tmp/ipykernel_2946356/4178983472.py:18: FutureWarning: You are using `torch.load` with `weights_only=False` (the current default value), which uses the default pickle module implicitly. It is possible to construct malicious pickle data which will execute arbitrary code during unpickling (See https://github.com/pytorch/pytorch/blob/main/SECURITY.md#untrusted-models for more details). In a future release, the default value for `weights_only` will be flipped to `True`. This limits the functions that could be executed during unpickling. Arbitrary objects will no longer be allowed to be loaded via this mode unless they are explicitly allowlisted by the user via `torch.serialization.add_safe_globals`. We recommend you start setting `weights_only=True` for any use case where you don't have full control of the loaded file. Please open an issue on GitHub for any issues related to this experimental feature.\n",
      "  model.load_state_dict(torch.load(model_save_path))\n"
     ]
    },
    {
     "name": "stdout",
     "output_type": "stream",
     "text": [
      "=========================** Result **============================\n",
      "\n",
      "F1 score: 0.7807017543859649\n",
      "precision: 0.8492734764693125\n",
      "recall: 0.7225092250922509\n",
      "\n"
     ]
    }
   ],
   "source": [
    "if len(env_config['load_model_path']) > 0:\n",
    "    model_save_path = env_config['load_model_path']\n",
    "else:\n",
    "    model_save_path = get_save_path()[0]\n",
    "\n",
    "    train_log = train_model(model, model_save_path, \n",
    "        config = train_config,\n",
    "        train_dataloader=train_dataloader,\n",
    "        val_dataloader=val_dataloader, \n",
    "        feature_map=feature_map,\n",
    "        test_dataloader=test_dataloader,\n",
    "        test_dataset=test_dataset,\n",
    "        train_dataset=train_dataset,\n",
    "        dataset_name=env_config['dataset']\n",
    "    )\n",
    "\n",
    "# test            \n",
    "model.load_state_dict(torch.load(model_save_path))\n",
    "best_model = model.to(device)\n",
    "\n",
    "_, test_result = test_model(best_model, test_dataloader)\n",
    "_, val_result = test_model(best_model, val_dataloader)\n",
    "\n",
    "get_score(test_result, val_result)"
   ]
  },
  {
   "cell_type": "code",
   "execution_count": null,
   "metadata": {},
   "outputs": [],
   "source": []
  },
  {
   "cell_type": "code",
   "execution_count": null,
   "metadata": {},
   "outputs": [],
   "source": []
  },
  {
   "cell_type": "code",
   "execution_count": null,
   "metadata": {},
   "outputs": [],
   "source": []
  },
  {
   "cell_type": "code",
   "execution_count": null,
   "metadata": {},
   "outputs": [],
   "source": []
  },
  {
   "cell_type": "code",
   "execution_count": null,
   "metadata": {},
   "outputs": [],
   "source": []
  },
  {
   "cell_type": "code",
   "execution_count": null,
   "metadata": {},
   "outputs": [],
   "source": []
  },
  {
   "cell_type": "code",
   "execution_count": null,
   "metadata": {},
   "outputs": [],
   "source": []
  }
 ],
 "metadata": {
  "kernelspec": {
   "display_name": "ugdn",
   "language": "python",
   "name": "python3"
  },
  "language_info": {
   "codemirror_mode": {
    "name": "ipython",
    "version": 3
   },
   "file_extension": ".py",
   "mimetype": "text/x-python",
   "name": "python",
   "nbconvert_exporter": "python",
   "pygments_lexer": "ipython3",
   "version": "3.12.3"
  }
 },
 "nbformat": 4,
 "nbformat_minor": 2
}
