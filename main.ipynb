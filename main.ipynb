{
 "cells": [
  {
   "cell_type": "code",
   "execution_count": 1,
   "metadata": {},
   "outputs": [
    {
     "name": "stdout",
     "output_type": "stream",
     "text": [
      "cuda\n"
     ]
    }
   ],
   "source": [
    "import pandas as pd\n",
    "import numpy as np\n",
    "import torch\n",
    "import matplotlib.pyplot as plt\n",
    "from torch.utils.data import DataLoader, random_split, Subset\n",
    "from sklearn.preprocessing import MinMaxScaler\n",
    "from util.env import get_device, set_device\n",
    "from util.preprocess import build_loc_net, construct_data\n",
    "from util.net_struct import get_feature_map, get_fc_graph_struc\n",
    "from util.iostream import printsep\n",
    "from datasets.TimeDataset import TimeDataset\n",
    "from models.GDN import GDN\n",
    "from train_model import train_model\n",
    "from test_model  import test_model\n",
    "from evaluate import get_err_scores, get_best_performance_data, get_val_performance_data, get_full_err_scores\n",
    "import sys\n",
    "from datetime import datetime\n",
    "import os\n",
    "import argparse\n",
    "from pathlib import Path\n",
    "import matplotlib.pyplot as plt\n",
    "import json\n",
    "import random\n",
    "\n",
    "class Args:\n",
    "    def __init__(self):\n",
    "        self.batch = 32\n",
    "        self.epoch = 50\n",
    "        self.slide_win = 5\n",
    "        self.dim = 64\n",
    "        self.slide_stride = 5\n",
    "        self.save_path_pattern = ''\n",
    "        self.dataset = 'swat'\n",
    "        self.device = 'cuda'\n",
    "        self.random_seed = 0\n",
    "        self.comment = ''\n",
    "        self.out_layer_num = 1\n",
    "        self.out_layer_inter_dim = 64\n",
    "        self.decay = 0.0\n",
    "        self.val_ratio = 0.1\n",
    "        self.topk = 15\n",
    "        self.report = 'best'\n",
    "        self.load_model_path = ''\n",
    "\n",
    "        # 추가된 변수들\n",
    "        self.npy_save_path = './eval_loss_acc.npy'  # Path to save evaluation results\n",
    "        self.pool_save_path = './prompt_pool.npy'  # Path to save prompt pool\n",
    "        self.dataset_root = './Dataset'  # Root directory for datasets\n",
    "\n",
    "args = Args()\n",
    "print(args.device)\n",
    "\n",
    "random.seed(args.random_seed)\n",
    "np.random.seed(args.random_seed)\n",
    "torch.manual_seed(args.random_seed)\n",
    "torch.cuda.manual_seed(args.random_seed)\n",
    "torch.cuda.manual_seed_all(args.random_seed)\n",
    "torch.backends.cudnn.benchmark = False\n",
    "torch.backends.cudnn.deterministic = True\n",
    "os.environ['PYTHONHASHSEED'] = str(args.random_seed)"
   ]
  },
  {
   "cell_type": "code",
   "execution_count": 2,
   "metadata": {},
   "outputs": [],
   "source": [
    "train_config = {\n",
    "    'batch': args.batch,\n",
    "    'epoch': args.epoch,\n",
    "    'slide_win': args.slide_win,\n",
    "    'dim': args.dim,\n",
    "    'slide_stride': args.slide_stride,\n",
    "    'comment': args.comment,\n",
    "    'seed': args.random_seed,\n",
    "    'out_layer_num': args.out_layer_num,\n",
    "    'out_layer_inter_dim': args.out_layer_inter_dim,\n",
    "    'decay': args.decay,\n",
    "    'val_ratio': args.val_ratio,\n",
    "    'topk': args.topk,\n",
    "}\n",
    "\n",
    "env_config={\n",
    "    'save_path': args.save_path_pattern,\n",
    "    'dataset': args.dataset,\n",
    "    'report': args.report,\n",
    "    'device': args.device,\n",
    "    'load_model_path': args.load_model_path\n",
    "}"
   ]
  },
  {
   "cell_type": "code",
   "execution_count": null,
   "metadata": {},
   "outputs": [],
   "source": [
    "datestr = None\n",
    "\n",
    "dataset = env_config['dataset'] \n",
    "train_orig = pd.read_csv(f'./data/{dataset}/train.csv', sep=',', index_col=0)\n",
    "test_orig = pd.read_csv(f'./data/{dataset}/test.csv', sep=',', index_col=0)\n",
    "\n",
    "train, test = train_orig, test_orig\n",
    "\n",
    "if 'attack' in train.columns:\n",
    "    train = train.drop(columns=['attack'])\n",
    "\n",
    "feature_map = get_feature_map(dataset)\n",
    "# Create Fully-Connected Graph Structure\n",
    "fc_struc = get_fc_graph_struc(dataset)\n",
    "\n",
    "set_device(env_config['device'])\n",
    "device = get_device()"
   ]
  },
  {
   "cell_type": "code",
   "execution_count": null,
   "metadata": {},
   "outputs": [],
   "source": [
    "# Create Edge Connections\n",
    "fc_edge_index = build_loc_net(fc_struc, list(train.columns), feature_map=feature_map)\n",
    "fc_edge_index = torch.tensor(fc_edge_index, dtype = torch.long)\n",
    "\n",
    "feature_map = feature_map\n",
    "\n",
    "# Data List & Label List\n",
    "train_dataset_indata = construct_data(train, feature_map, labels=0)\n",
    "test_dataset_indata = construct_data(test, feature_map, labels=test.attack.tolist())\n",
    "\n",
    "\n",
    "cfg = {\n",
    "    'slide_win': train_config['slide_win'],\n",
    "    'slide_stride': train_config['slide_stride'],\n",
    "}\n",
    "\n",
    "train_dataset = TimeDataset(train_dataset_indata, fc_edge_index, mode='train', config=cfg)\n",
    "test_dataset = TimeDataset(test_dataset_indata, fc_edge_index, mode='test', config=cfg)"
   ]
  },
  {
   "cell_type": "code",
   "execution_count": 28,
   "metadata": {},
   "outputs": [
    {
     "data": {
      "text/plain": [
       "(torch.Size([9467, 51, 5]), torch.Size([9467, 51]), torch.Size([9467]))"
      ]
     },
     "execution_count": 28,
     "metadata": {},
     "output_type": "execute_result"
    }
   ],
   "source": [
    "train_dataset.x.shape, train_dataset.y.shape, train_dataset.labels.shape"
   ]
  },
  {
   "cell_type": "code",
   "execution_count": 29,
   "metadata": {},
   "outputs": [],
   "source": [
    "def get_loaders(train_dataset, seed, batch, val_ratio=0.1):\n",
    "    dataset_len = int(len(train_dataset))\n",
    "    train_use_len = int(dataset_len * (1 - val_ratio))\n",
    "    val_use_len = int(dataset_len * val_ratio)\n",
    "    val_start_index = random.randrange(train_use_len)\n",
    "    indices = torch.arange(dataset_len)\n",
    "\n",
    "    train_sub_indices = torch.cat([indices[:val_start_index], indices[val_start_index+val_use_len:]])\n",
    "    train_subset = Subset(train_dataset, train_sub_indices)\n",
    "\n",
    "    val_sub_indices = indices[val_start_index:val_start_index+val_use_len]\n",
    "    val_subset = Subset(train_dataset, val_sub_indices)\n",
    "\n",
    "\n",
    "    train_dataloader = DataLoader(train_subset, batch_size=batch,\n",
    "                            shuffle=True)\n",
    "\n",
    "    val_dataloader = DataLoader(val_subset, batch_size=batch,\n",
    "                            shuffle=False)\n",
    "\n",
    "    return train_dataloader, val_dataloader\n",
    "\n",
    "train_dataloader, val_dataloader = get_loaders(train_dataset, train_config['seed'], train_config['batch'], val_ratio = train_config['val_ratio'])\n",
    "\n",
    "train_dataset = train_dataset\n",
    "test_dataset = test_dataset\n",
    "\n",
    "\n",
    "train_dataloader = train_dataloader\n",
    "val_dataloader = val_dataloader\n",
    "test_dataloader = DataLoader(test_dataset, batch_size=train_config['batch'],\n",
    "                    shuffle=False, num_workers=0)\n",
    "\n",
    "\n",
    "edge_index_sets = []\n",
    "edge_index_sets.append(fc_edge_index)\n",
    "\n",
    "model = GDN(edge_index_sets, len(feature_map), \n",
    "        dim=train_config['dim'], \n",
    "        input_dim=train_config['slide_win'],\n",
    "        out_layer_num=train_config['out_layer_num'],\n",
    "        out_layer_inter_dim=train_config['out_layer_inter_dim'],\n",
    "        topk=train_config['topk']\n",
    "    ).to(device)\n"
   ]
  },
  {
   "cell_type": "code",
   "execution_count": 6,
   "metadata": {},
   "outputs": [],
   "source": [
    "def get_save_path(feature_name=''):\n",
    "\n",
    "    dir_path = env_config['save_path']\n",
    "\n",
    "    now = datetime.now()\n",
    "    datestr = now.strftime('%m|%d-%H:%M:%S')\n",
    "    datestr = datestr          \n",
    "\n",
    "    paths = [\n",
    "        f'./pretrained/{dir_path}/best_{datestr}.pt',\n",
    "        f'./results/{dir_path}/{datestr}.csv',\n",
    "    ]\n",
    "\n",
    "    for path in paths:\n",
    "        dirname = os.path.dirname(path)\n",
    "        Path(dirname).mkdir(parents=True, exist_ok=True)\n",
    "\n",
    "    return paths\n",
    "\n",
    "def get_score(test_result, val_result):\n",
    "\n",
    "    feature_num = len(test_result[0][0])\n",
    "    np_test_result = np.array(test_result)\n",
    "    np_val_result = np.array(val_result)\n",
    "\n",
    "    test_labels = np_test_result[2, :, 0].tolist()\n",
    "\n",
    "    test_scores, normal_scores = get_full_err_scores(test_result, val_result)\n",
    "\n",
    "    top1_best_info = get_best_performance_data(test_scores, test_labels, topk=1) \n",
    "    top1_val_info = get_val_performance_data(test_scores, normal_scores, test_labels, topk=1)\n",
    "\n",
    "\n",
    "    print('=========================** Result **============================\\n')\n",
    "\n",
    "    info = None\n",
    "    if env_config['report'] == 'best':\n",
    "        info = top1_best_info\n",
    "    elif env_config['report'] == 'val':\n",
    "        info = top1_val_info\n",
    "\n",
    "    print(f'F1 score: {info[0]}')\n",
    "    print(f'precision: {info[1]}')\n",
    "    print(f'recall: {info[2]}\\n')"
   ]
  },
  {
   "cell_type": "code",
   "execution_count": 7,
   "metadata": {},
   "outputs": [
    {
     "name": "stderr",
     "output_type": "stream",
     "text": [
      "/home/mskim2/GDN/models/GDN.py:161: UserWarning: The use of `x.T` on tensors of dimension other than 2 to reverse their shape is deprecated and it will throw an error in a future release. Consider `x.mT` to transpose batches of matrices or `x.permute(*torch.arange(x.ndim - 1, -1, -1))` to reverse the dimensions of a tensor. (Triggered internally at ../aten/src/ATen/native/TensorShape.cpp:3683.)\n",
      "  gated_i = torch.arange(0, node_num).T.unsqueeze(1).repeat(1, topk_num).flatten().to(device).unsqueeze(0)\n"
     ]
    },
    {
     "name": "stdout",
     "output_type": "stream",
     "text": [
      "epoch (0 / 50) (Loss:0.07006755, ACU_loss:18.70803578)\n",
      "epoch (1 / 50) (Loss:0.02286051, ACU_loss:6.10375535)\n",
      "epoch (2 / 50) (Loss:0.01824087, ACU_loss:4.87031206)\n",
      "epoch (3 / 50) (Loss:0.01361006, ACU_loss:3.63388505)\n",
      "epoch (4 / 50) (Loss:0.01092744, ACU_loss:2.91762747)\n",
      "epoch (5 / 50) (Loss:0.01150898, ACU_loss:3.07289832)\n",
      "epoch (6 / 50) (Loss:0.01075816, ACU_loss:2.87242931)\n",
      "epoch (7 / 50) (Loss:0.01040180, ACU_loss:2.77728179)\n",
      "epoch (8 / 50) (Loss:0.00943377, ACU_loss:2.51881528)\n",
      "epoch (9 / 50) (Loss:0.00917554, ACU_loss:2.44987046)\n",
      "epoch (10 / 50) (Loss:0.00874509, ACU_loss:2.33494018)\n",
      "epoch (11 / 50) (Loss:0.00830604, ACU_loss:2.21771378)\n",
      "epoch (12 / 50) (Loss:0.00981769, ACU_loss:2.62132348)\n",
      "epoch (13 / 50) (Loss:0.00902593, ACU_loss:2.40992302)\n",
      "epoch (14 / 50) (Loss:0.00883357, ACU_loss:2.35856256)\n",
      "epoch (15 / 50) (Loss:0.00845646, ACU_loss:2.25787515)\n",
      "epoch (16 / 50) (Loss:0.00816758, ACU_loss:2.18074380)\n",
      "epoch (17 / 50) (Loss:0.00779426, ACU_loss:2.08106692)\n",
      "epoch (18 / 50) (Loss:0.00748474, ACU_loss:1.99842606)\n",
      "epoch (19 / 50) (Loss:0.00691769, ACU_loss:1.84702350)\n"
     ]
    },
    {
     "ename": "KeyboardInterrupt",
     "evalue": "",
     "output_type": "error",
     "traceback": [
      "\u001b[0;31m---------------------------------------------------------------------------\u001b[0m",
      "\u001b[0;31mKeyboardInterrupt\u001b[0m                         Traceback (most recent call last)",
      "Cell \u001b[0;32mIn[7], line 6\u001b[0m\n\u001b[1;32m      3\u001b[0m \u001b[38;5;28;01melse\u001b[39;00m:\n\u001b[1;32m      4\u001b[0m     model_save_path \u001b[38;5;241m=\u001b[39m get_save_path()[\u001b[38;5;241m0\u001b[39m]\n\u001b[0;32m----> 6\u001b[0m     train_log \u001b[38;5;241m=\u001b[39m \u001b[43mtrain_model\u001b[49m\u001b[43m(\u001b[49m\u001b[43mmodel\u001b[49m\u001b[43m,\u001b[49m\u001b[43m \u001b[49m\u001b[43mmodel_save_path\u001b[49m\u001b[43m,\u001b[49m\u001b[43m \u001b[49m\n\u001b[1;32m      7\u001b[0m \u001b[43m        \u001b[49m\u001b[43mconfig\u001b[49m\u001b[43m \u001b[49m\u001b[38;5;241;43m=\u001b[39;49m\u001b[43m \u001b[49m\u001b[43mtrain_config\u001b[49m\u001b[43m,\u001b[49m\n\u001b[1;32m      8\u001b[0m \u001b[43m        \u001b[49m\u001b[43mtrain_dataloader\u001b[49m\u001b[38;5;241;43m=\u001b[39;49m\u001b[43mtrain_dataloader\u001b[49m\u001b[43m,\u001b[49m\n\u001b[1;32m      9\u001b[0m \u001b[43m        \u001b[49m\u001b[43mval_dataloader\u001b[49m\u001b[38;5;241;43m=\u001b[39;49m\u001b[43mval_dataloader\u001b[49m\u001b[43m,\u001b[49m\u001b[43m \u001b[49m\n\u001b[1;32m     10\u001b[0m \u001b[43m        \u001b[49m\u001b[43mfeature_map\u001b[49m\u001b[38;5;241;43m=\u001b[39;49m\u001b[43mfeature_map\u001b[49m\u001b[43m,\u001b[49m\n\u001b[1;32m     11\u001b[0m \u001b[43m        \u001b[49m\u001b[43mtest_dataloader\u001b[49m\u001b[38;5;241;43m=\u001b[39;49m\u001b[43mtest_dataloader\u001b[49m\u001b[43m,\u001b[49m\n\u001b[1;32m     12\u001b[0m \u001b[43m        \u001b[49m\u001b[43mtest_dataset\u001b[49m\u001b[38;5;241;43m=\u001b[39;49m\u001b[43mtest_dataset\u001b[49m\u001b[43m,\u001b[49m\n\u001b[1;32m     13\u001b[0m \u001b[43m        \u001b[49m\u001b[43mtrain_dataset\u001b[49m\u001b[38;5;241;43m=\u001b[39;49m\u001b[43mtrain_dataset\u001b[49m\u001b[43m,\u001b[49m\n\u001b[1;32m     14\u001b[0m \u001b[43m        \u001b[49m\u001b[43mdataset_name\u001b[49m\u001b[38;5;241;43m=\u001b[39;49m\u001b[43menv_config\u001b[49m\u001b[43m[\u001b[49m\u001b[38;5;124;43m'\u001b[39;49m\u001b[38;5;124;43mdataset\u001b[39;49m\u001b[38;5;124;43m'\u001b[39;49m\u001b[43m]\u001b[49m\n\u001b[1;32m     15\u001b[0m \u001b[43m    \u001b[49m\u001b[43m)\u001b[49m\n\u001b[1;32m     17\u001b[0m \u001b[38;5;66;03m# test            \u001b[39;00m\n\u001b[1;32m     18\u001b[0m model\u001b[38;5;241m.\u001b[39mload_state_dict(torch\u001b[38;5;241m.\u001b[39mload(model_save_path))\n",
      "File \u001b[0;32m~/GDN/train_model.py:66\u001b[0m, in \u001b[0;36mtrain_model\u001b[0;34m(model, save_path, config, train_dataloader, val_dataloader, feature_map, test_dataloader, test_dataset, dataset_name, train_dataset)\u001b[0m\n\u001b[1;32m     63\u001b[0m \u001b[38;5;28;01mfor\u001b[39;00m x, labels, attack_labels, edge_index \u001b[38;5;129;01min\u001b[39;00m dataloader:\n\u001b[1;32m     64\u001b[0m     _start \u001b[38;5;241m=\u001b[39m time\u001b[38;5;241m.\u001b[39mtime()\n\u001b[0;32m---> 66\u001b[0m     x, labels, edge_index \u001b[38;5;241m=\u001b[39m [\u001b[43mitem\u001b[49m\u001b[38;5;241;43m.\u001b[39;49m\u001b[43mfloat\u001b[49m\u001b[43m(\u001b[49m\u001b[43m)\u001b[49m\u001b[38;5;241;43m.\u001b[39;49m\u001b[43mto\u001b[49m\u001b[43m(\u001b[49m\u001b[43mdevice\u001b[49m\u001b[43m)\u001b[49m \u001b[38;5;28;01mfor\u001b[39;00m item \u001b[38;5;129;01min\u001b[39;00m [x, labels, edge_index]]\n\u001b[1;32m     68\u001b[0m     optimizer\u001b[38;5;241m.\u001b[39mzero_grad()\n\u001b[1;32m     69\u001b[0m     out \u001b[38;5;241m=\u001b[39m model(x, edge_index)\u001b[38;5;241m.\u001b[39mfloat()\u001b[38;5;241m.\u001b[39mto(device)\n",
      "\u001b[0;31mKeyboardInterrupt\u001b[0m: "
     ]
    }
   ],
   "source": [
    "if len(env_config['load_model_path']) > 0:\n",
    "    model_save_path = env_config['load_model_path']\n",
    "else:\n",
    "    model_save_path = get_save_path()[0]\n",
    "\n",
    "    train_log = train_model(model, model_save_path, \n",
    "        config = train_config,\n",
    "        train_dataloader=train_dataloader,\n",
    "        val_dataloader=val_dataloader, \n",
    "        feature_map=feature_map,\n",
    "        test_dataloader=test_dataloader,\n",
    "        test_dataset=test_dataset,\n",
    "        train_dataset=train_dataset,\n",
    "        dataset_name=env_config['dataset']\n",
    "    )\n",
    "\n",
    "# test            \n",
    "model.load_state_dict(torch.load(model_save_path))\n",
    "best_model = model.to(device)\n",
    "\n",
    "_, test_result = test(best_model, test_dataloader)\n",
    "_, val_result = test(best_model, val_dataloader)\n",
    "\n",
    "get_score(test_result, val_result)"
   ]
  },
  {
   "cell_type": "code",
   "execution_count": null,
   "metadata": {},
   "outputs": [],
   "source": []
  },
  {
   "cell_type": "code",
   "execution_count": null,
   "metadata": {},
   "outputs": [],
   "source": []
  },
  {
   "cell_type": "code",
   "execution_count": null,
   "metadata": {},
   "outputs": [],
   "source": []
  },
  {
   "cell_type": "code",
   "execution_count": null,
   "metadata": {},
   "outputs": [],
   "source": []
  },
  {
   "cell_type": "code",
   "execution_count": null,
   "metadata": {},
   "outputs": [],
   "source": []
  },
  {
   "cell_type": "code",
   "execution_count": null,
   "metadata": {},
   "outputs": [],
   "source": []
  },
  {
   "cell_type": "code",
   "execution_count": null,
   "metadata": {},
   "outputs": [],
   "source": []
  }
 ],
 "metadata": {
  "kernelspec": {
   "display_name": "ugdn",
   "language": "python",
   "name": "python3"
  },
  "language_info": {
   "codemirror_mode": {
    "name": "ipython",
    "version": 3
   },
   "file_extension": ".py",
   "mimetype": "text/x-python",
   "name": "python",
   "nbconvert_exporter": "python",
   "pygments_lexer": "ipython3",
   "version": "3.12.3"
  }
 },
 "nbformat": 4,
 "nbformat_minor": 2
}
